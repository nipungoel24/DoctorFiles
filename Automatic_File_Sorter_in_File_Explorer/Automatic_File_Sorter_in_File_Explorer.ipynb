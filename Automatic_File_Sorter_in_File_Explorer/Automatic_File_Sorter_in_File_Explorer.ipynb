{
 "cells": [
  {
   "cell_type": "markdown",
   "id": "e2b8bd8b",
   "metadata": {},
   "source": [
    "# **Automatic File Sorter in File Explorer**"
   ]
  },
  {
   "cell_type": "code",
   "execution_count": 14,
   "id": "5957a7bd",
   "metadata": {},
   "outputs": [],
   "source": [
    "import os, shutil"
   ]
  },
  {
   "cell_type": "code",
   "execution_count": 15,
   "id": "d63bd479",
   "metadata": {},
   "outputs": [],
   "source": [
    "# Path to the directory containing files to be sorted\n",
    "path = r\"K:\\Data_Analyst\\Python\\Automatic_File_Sorter_in_File_Explorer\\Files\""
   ]
  },
  {
   "cell_type": "code",
   "execution_count": 16,
   "id": "0ac413d5",
   "metadata": {},
   "outputs": [
    {
     "data": {
      "text/plain": [
       "['docx',\n",
       " 'Images',\n",
       " 'ipynb',\n",
       " 'jpg',\n",
       " 'mp4',\n",
       " 'Others',\n",
       " 'pdf',\n",
       " 'PDFs',\n",
       " 'png',\n",
       " 'pptx',\n",
       " 'Presentations',\n",
       " 'Spreadsheets',\n",
       " 'Videos']"
      ]
     },
     "execution_count": 16,
     "metadata": {},
     "output_type": "execute_result"
    }
   ],
   "source": [
    "# Files in the directory\n",
    "file_names = os.listdir(path)\n",
    "file_names"
   ]
  },
  {
   "cell_type": "code",
   "execution_count": 17,
   "id": "43f43538",
   "metadata": {},
   "outputs": [],
   "source": [
    "# Looping through each file in the directory\n",
    "for file in file_names:\n",
    "    \n",
    "    # Full path of the file\n",
    "    file_path = os.path.join(path, file)\n",
    "    \n",
    "    # Checking if it is a file\n",
    "    if os.path.isfile(file_path):\n",
    "        \n",
    "        # Extracting file extension and creating folder if it doesn't exist\n",
    "        ext = os.path.splitext(file)[1][1:].lower()  # Get extension without dot\n",
    "        if ext == \"\":\n",
    "            ext = \"no_extension\"\n",
    "        else:\n",
    "            print(ext, \"Extension found.\") \n",
    "        \n",
    "        # Mapping extensions to folder names\n",
    "        folder_path = os.path.join(path, ext)\n",
    "        \n",
    "        # Creating folder if it doesn't exist\n",
    "        if not os.path.exists(folder_path):\n",
    "            \n",
    "            # Create the folder\n",
    "            os.mkdir(folder_path)\n",
    "            print(f\"Folder '{ext}' created.\")\n",
    "        \n",
    "        # Moving the file to the corresponding folder\n",
    "        shutil.move(file_path, os.path.join(folder_path, file))\n",
    "        print(f\"Moved '{file}' to '{ext}' folder.\")"
   ]
  },
  {
   "cell_type": "code",
   "execution_count": 20,
   "id": "57f8c158",
   "metadata": {},
   "outputs": [
    {
     "name": "stdout",
     "output_type": "stream",
     "text": [
      "Deleted empty folder 'K:\\Data_Analyst\\Python\\Automatic_File_Sorter_in_File_Explorer\\Files\\Images'.\n",
      "Deleted empty folder 'K:\\Data_Analyst\\Python\\Automatic_File_Sorter_in_File_Explorer\\Files\\Others'.\n",
      "Deleted empty folder 'K:\\Data_Analyst\\Python\\Automatic_File_Sorter_in_File_Explorer\\Files\\PDFs'.\n",
      "Deleted empty folder 'K:\\Data_Analyst\\Python\\Automatic_File_Sorter_in_File_Explorer\\Files\\Presentations'.\n",
      "Deleted empty folder 'K:\\Data_Analyst\\Python\\Automatic_File_Sorter_in_File_Explorer\\Files\\Spreadsheets'.\n",
      "Deleted empty folder 'K:\\Data_Analyst\\Python\\Automatic_File_Sorter_in_File_Explorer\\Files\\Videos'.\n",
      "File sorting completed.\n"
     ]
    }
   ],
   "source": [
    "# Delete the empty directory if needed\n",
    "for item in os.listdir(path):\n",
    "    folder = os.path.join(path, item)\n",
    "    if os.path.exists(folder) and not os.listdir(folder):\n",
    "        print(f\"Deleted empty folder '{folder}'.\")\n",
    "        os.rmdir(folder)\n",
    "    \n",
    "print(\"File sorting completed.\")"
   ]
  },
  {
   "cell_type": "code",
   "execution_count": null,
   "id": "7c2ea7a2",
   "metadata": {},
   "outputs": [],
   "source": []
  }
 ],
 "metadata": {
  "kernelspec": {
   "display_name": "myenv",
   "language": "python",
   "name": "python3"
  },
  "language_info": {
   "codemirror_mode": {
    "name": "ipython",
    "version": 3
   },
   "file_extension": ".py",
   "mimetype": "text/x-python",
   "name": "python",
   "nbconvert_exporter": "python",
   "pygments_lexer": "ipython3",
   "version": "3.12.4"
  }
 },
 "nbformat": 4,
 "nbformat_minor": 5
}
